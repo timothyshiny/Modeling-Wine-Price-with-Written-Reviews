{
 "cells": [
  {
   "cell_type": "markdown",
   "metadata": {},
   "source": [
    "# Modeling Wine Price with Written Reviews"
   ]
  },
  {
   "cell_type": "markdown",
   "metadata": {},
   "source": [
    "David Dunham (dd567), Jeremy Kline (jbk227), and Guofeng Shi (gs522)\n",
    "\n",
    "INFO 1998 Final Project / Fall 2018\n",
    "\n",
    "In this project, we analyze a data set consisting of 130,000 wine reviews taken from Wine Enthusiast magazine. The data set covers a wide range of wines, mostly concentrated on California and France. The reviews consist of a point score ranging from 80 (worst) to 100 (best) and a brief text (approx. 50 words) describing the wine and explaining the taster's judgment. Additionally, the data set contains the price of each wine, along with certain geographic information (e.g. 'country,' 'province,' 'region,' and 'winery'). Here, we use the sentiment analysis tool TextBlob to generate numerical scores for both the sentiment and subjectivity of each review. We then use several regression models in a stacked ensemble approach to examine the correlation to the target variable 'price.' Our research question is the following: Do the subjective opinions of experts, as expressed in these machine-generated text analysis scores, show some correlation to the price of wines in the marketplace? If a positive correlation exists, this may suggest that expert sentiment generally coheres with that of the general public and may be a useful tool in predicting a wine's profitability."
   ]
  },
  {
   "cell_type": "markdown",
   "metadata": {},
   "source": [
    "Examples of wine reviews:\n",
    "\n",
    "\"Fans of ripe, sweet fruit will love this Pinot. It's huge in juicy raspberry and cherry, with spicy hints of Dr. Pepper and red licorice. It will be fun to see how the wine evolves over the next 6–8 years.\" Sentiment:0.258, Subjectivity: 0.392 \n",
    "\n",
    "\"Mouthwatering, high-toned acidity and a pleasant lemon-lime bitterness keeps the honeyed apple characteristics of this semisweet style Riesling in balance. Elegant mineral and petrol notes lead to a lingering, puckery finish.\" Sentiment: 0.617, Subjectivity: 0.983"
   ]
  },
  {
   "cell_type": "markdown",
   "metadata": {},
   "source": [
    "Our data set was uploaded to Kaggle by user Olivier Goutay: https://www.kaggle.com/olivierg13/wine-ratings-analysis-w-supervised-ml/data\n",
    "\n",
    "NOTE: The following project was written in Python 3.7. Previous versions may not run correctly."
   ]
  },
  {
   "cell_type": "markdown",
   "metadata": {},
   "source": [
    "# Stage 1: Preprocessing"
   ]
  },
  {
   "cell_type": "markdown",
   "metadata": {},
   "source": [
    "1.1 Load Data Set and Generate Sentiment Scores\n",
    "\n",
    "After loading the data set, we use TextBlob to generate Sentiment and Subjectivity scores for each wine. The Sentiment score ranges from -1 (most negative) to 1 (most positive) with 0 being neutral. The Subjectivity score ranges from 0 (most objective) to 1 (most subjective). TextBlob contains a Python library based on Stanford NLTK, which generates these scores on the basis of data trained from movie reviews. Here, we assign the Sentiment and Subjectivity values to two additinonal columns in our data set and save a new CSV file."
   ]
  },
  {
   "cell_type": "code",
   "execution_count": 1,
   "metadata": {},
   "outputs": [],
   "source": [
    "#Analyzing same sentences again using TextBlob\n",
    "from textblob import TextBlob\n",
    "import pandas as pd\n",
    "import numpy as np\n",
    "\n",
    "df = pd.read_csv(\"winemag-data-130k-v2.csv\")\n",
    "reviews = df['description'].values\n",
    "sentiments = np.zeros(df.shape[0])\n",
    "subjectivity = np.zeros(df.shape[0])\n",
    "for i in range(0, len(df['description'])):\n",
    "    sentiments[i]=TextBlob(reviews[i]).sentiment.polarity\n",
    "    subjectivity[i]=TextBlob(reviews[i]).sentiment.subjectivity\n",
    "\n",
    "df['Sentiment'] = pd.Series(sentiments, index = df.index)\n",
    "df['Subjectivity'] = pd.Series(subjectivity, index = df.index)"
   ]
  },
  {
   "cell_type": "code",
   "execution_count": 2,
   "metadata": {},
   "outputs": [],
   "source": [
    "#SAVE POINT. DO NOT RUN AGAIN.\n",
    "df.to_csv(\"winereviews_130k_v3.csv\")"
   ]
  },
  {
   "cell_type": "markdown",
   "metadata": {},
   "source": [
    "1.2 Cleaning Data\n",
    "\n",
    "The data set does not contain many empty cells, but they do exist in each feature. For categorical data, we filled these empty cells with 'none.' For numerical data, we inserted the mean value of the data in that column. Lastly, we removed any duplicates that may exist in the set."
   ]
  },
  {
   "cell_type": "code",
   "execution_count": 3,
   "metadata": {},
   "outputs": [],
   "source": [
    "#CLEAN EMPTY DATA\n",
    "import pandas as pd\n",
    "import numpy as np\n",
    "\n",
    "df = pd.read_csv('winereviews_130k_v3.csv')\n",
    "\n",
    "#For the categorical columns, fill blanks with 'None.'\n",
    "df['country'].fillna('None', inplace=True) #The following is categorical data, to be filled with 'none.' \n",
    "df['designation'].fillna('None', inplace=True)\n",
    "df['province'].fillna('None', inplace=True)\n",
    "df['variety'].fillna('None', inplace=True)\n",
    "df['winery'].fillna('None', inplace=True)\n",
    "df['taster_name'].fillna('None', inplace=True)\n",
    "df['taster_twitter_handle'].fillna('None', inplace=True)\n",
    "df['points'] = df['points'].fillna(int(df['points'].mean())) #Numerical data is filled with the mean.\n",
    "df['price'] = df['price'].fillna(int(df['price'].mean()))\n",
    "\n",
    "#Remove duplicates\n",
    "df.drop_duplicates(inplace=True)"
   ]
  },
  {
   "cell_type": "markdown",
   "metadata": {},
   "source": [
    "1.3 Outliers\n",
    "\n",
    "After examining the distribution of data in our target feature 'price,' we found outliers to be a major issue. The average price of a wine is 31 dollars, but the most expensive wine costs 3300 dollars. To eliminate these outliers, we removed all wines costing above $100. This constitutes only 3 percent of the original set, but significantly reduces the range of possible prices."
   ]
  },
  {
   "cell_type": "code",
   "execution_count": 4,
   "metadata": {},
   "outputs": [],
   "source": [
    "#REMOVE OUTLIERS\n",
    "df = df[df.price < 100]"
   ]
  },
  {
   "cell_type": "markdown",
   "metadata": {},
   "source": [
    "# Stage 2: Visualization"
   ]
  },
  {
   "cell_type": "markdown",
   "metadata": {},
   "source": [
    "2.1 Wine Prices in Each Country\n",
    "\n",
    "In our first visualization, we created a boxplot showing the range of prices for each country's wine. This shows that the median values of wines for each country are roughly 20 to 40 dollars, which suggests that a wine's country of origin alone may not be a strong predictive factor in price."
   ]
  },
  {
   "cell_type": "code",
   "execution_count": 5,
   "metadata": {},
   "outputs": [
    {
     "data": {
      "text/plain": [
       "Text(0.5,0.98,'Wine Prices')"
      ]
     },
     "execution_count": 5,
     "metadata": {},
     "output_type": "execute_result"
    }
   ],
   "source": [
    "#PLOT 1\n",
    "#PLOT DISTRIBUTION OF WINE PRICES IN EACH COUNTRY\n",
    "import matplotlib.pyplot as plt\n",
    "import seaborn as sns\n",
    "\n",
    "fig, ax = plt.subplots(figsize=(30,10))\n",
    "sns.boxplot(x='country', y='price', data=df)\n",
    "plt.xticks(fontsize=20, rotation=90) # X Ticks\n",
    "plt.yticks(fontsize=20) # Y Ticks\n",
    "plt.xlabel('country',fontsize=20)\n",
    "plt.ylabel('price',fontsize=20)\n",
    "plt.suptitle('Wine Prices',fontsize=30)"
   ]
  },
  {
   "cell_type": "markdown",
   "metadata": {},
   "source": [
    "2.2 Correlations to Price\n",
    "\n",
    "Here, we generate three plots showing the relationship of 'points' (reviewer's score), 'sentiment' and 'subjectivity' to wine prices. All plots were generated using Seaborn. In the first case, the plot is a type of heatmap, which clearly shows a positive correlation of points to price. Unfortunately, the scores for sentiment and subjectivity do not show a strong correlation. In these last two charts, we show a kind of scatterplot with the addition of a regression line for the data. In the case of sentiment, not only does the data fail to show a positive correlation to price, but it even shows a slight negative direction. In the case of subjectivity, there is apparently almost no correlation whatsoever. \n",
    "\n",
    "This result suggests that the TextBlob sentiment analysis tool was ineffective in demonstrating a link to price, probably due to the tool being trained on an entirely different kind of text data. However, this does not necessarily suggest that the two scores are useless for a machine learning approach, since even a small correlation may assist a properly trained model, whether that correlation is positive or negative.\n",
    "\n",
    "NOTE: The plots below may take time to load."
   ]
  },
  {
   "cell_type": "code",
   "execution_count": 6,
   "metadata": {},
   "outputs": [
    {
     "data": {
      "text/plain": [
       "<seaborn.axisgrid.FacetGrid at 0x1a1d716f98>"
      ]
     },
     "execution_count": 6,
     "metadata": {},
     "output_type": "execute_result"
    },
    {
     "data": {
      "image/png": "[encoded data removed]",
      "text/plain": [
       "<Figure size 432x432 with 3 Axes>"
      ]
     },
     "metadata": {},
     "output_type": "display_data"
    },
    {
     "data": {
      "image/png": "[encoded data removed]",
      "text/plain": [
       "<Figure size 360x360 with 1 Axes>"
      ]
     },
     "metadata": {},
     "output_type": "display_data"
    },
    {
     "data": {
      "image/png": "[encoded data removed]",
      "text/plain": [
       "<Figure size 360x360 with 1 Axes>"
      ]
     },
     "metadata": {},
     "output_type": "display_data"
    }
   ],
   "source": [
    "#PLOTS 2-4\n",
    "#THE CORRELATION OF WINE POINTS AND PRICE\n",
    "sns.set(style=\"ticks\")\n",
    "sns.jointplot(x='points',y='price',kind='kde',color='g',data=df)\n",
    "plt.savefig('nltk_score_correlation.png',bbox_inches='tight')\n",
    "\n",
    "#THE CORRELATION OF WINE SENTIMENT AND PRICE\n",
    "sns.lmplot(x='Sentiment', y='price',data=df)\n",
    "\n",
    "#THE CORRELATION OF WINE SUBJECTIVITY AND PRICE\n",
    "sns.lmplot(x='Subjectivity', y='price',data=df)\n",
    "#Hypothesis: Wine reviewers give higher point value to wines that they recognize will have wide appeal, but are equally likely to speak favorably about an average price wine."
   ]
  },
  {
   "cell_type": "markdown",
   "metadata": {},
   "source": [
    "2.3 Which Tasters Have the Strongest Influence?\n",
    "\n",
    "In the barchart below, we examine the ten reviewers who have written the largest number of reviews for the website. We then generate a unique score for each individual based on the correlation of their wine point scores to the price of the wines that they reviewed. The result shows some degree of variation in taster 'influence.' Considering that all tasters review each wine under blind conditions, it is possible that some reviewers' tastes privilege expensive wines over less expensive ones. However, this difference is not so large to offer a predictive potential to this measurement."
   ]
  },
  {
   "cell_type": "code",
   "execution_count": 7,
   "metadata": {},
   "outputs": [
    {
     "data": {
      "text/plain": [
       "Text(0.5,0.98,'Taster Point/Price Correlation')"
      ]
     },
     "execution_count": 7,
     "metadata": {},
     "output_type": "execute_result"
    },
    {
     "data": {
      "image/png": "[encoded data removed]",
      "text/plain": [
       "<Figure size 432x288 with 1 Axes>"
      ]
     },
     "metadata": {},
     "output_type": "display_data"
    }
   ],
   "source": [
    "#PLOT 5\n",
    "#VISUALIZATION OF THE RELATIVE CORRELATIONS OF POINTS AND PRICE FOR THE TOP TASTERS.\n",
    "from scipy import stats\n",
    "import scipy as sc\n",
    "import matplotlib.pyplot as plt\n",
    "\n",
    "#Find correlation coefficients of price vs points for each of the top tasters.\n",
    "top_tasters = [\"Roger Voss\",\"Michael Schachner\",\"Kerin O’Keefe\",\"Virginie Boone\",\"Paul Gregutt\",\"Matt Kettmann\",\"Joe Czerwinski\",\"Sean P. Sullivan\",\"Jim Gordon\",\"Anna Lee C. Iijima\"]\n",
    "top_taster_correlations = [top_tasters.copy(),top_tasters.copy()]\n",
    "for i in range(0, len(top_tasters)):\n",
    "    top_taster_correlations[1][i] = sc.stats.pearsonr(df.loc[df['taster_name'] == top_tasters[i]]['points'].values,df.loc[df['taster_name'] == top_tasters[i]]['price'].values)\n",
    "for i in range(len(top_taster_correlations[1])):\n",
    "    top_taster_correlations[1][i] = top_taster_correlations[1][i][0]\n",
    "\n",
    "xticks = list(range(0,len(top_taster_correlations[1])))\n",
    "xticks = [1*x for x in xticks]\n",
    "plt.barh(xticks,top_taster_correlations[1], tick_label = top_taster_correlations[0])\n",
    "plt.xlabel('Score',fontsize=10)\n",
    "plt.ylabel('Top Tasters',fontsize=10)\n",
    "plt.suptitle('Taster Point/Price Correlation',fontsize=15)\n",
    "\n"
   ]
  },
  {
   "cell_type": "markdown",
   "metadata": {},
   "source": [
    "# Stage 3: Encoding and Scaling"
   ]
  },
  {
   "cell_type": "markdown",
   "metadata": {},
   "source": [
    "3.1 Categorical Grouping\n",
    "\n",
    "Before we can create a model for our data, we first needed to encode our categorical data into numerical form. Since our data set is very large and the categories are not evenly represented throughout the set (i.e. a small number of wineries, countries, and regions constitute the majority of wines), sklearn's LabelEncoder was not an option. Instead, we chose to use OneHotEncoder, which generates a numeric array for each category in a feature. This process, however, increases the size of the data set by generating additional columns for each new category. Thus, it was impossible for us to encode all categories, since our data contains hundreds of unique categories.\n",
    "\n",
    "To solve this encoding challenge, we retained 8-10 of the most frequent categories for each categorical feature and grouped all other infrequent categories under the label 'other.' Therefore, we were able to encode categories that occur most frequently and did not need to exclude this information from analysis.\n",
    "\n",
    "In the steps below, we generate a series of new columns for the grouped data. We then apply OneHotEncoder on these columns and later discard the original columns prior to analysis."
   ]
  },
  {
   "cell_type": "code",
   "execution_count": 8,
   "metadata": {},
   "outputs": [],
   "source": [
    "#Create new column 'Top Varieties' in which less common varieties are classified as 'other'\n",
    "top_varieties = ['Pinot Noir', 'Chardonnay', 'Cabernet Sauvignon', 'Red Blend', 'Bordeaux-style Red Blend', 'Riesling', 'Sauvignon Blanc', 'Syrah']\n",
    "variety_values = df['variety'].values\n",
    "\n",
    "varieties = np.array([' '*max([len(item) for item in top_varieties])for i in range(df.shape[0])])\n",
    "for i in range(0, len(df['variety'])):\n",
    "    if variety_values[i] not in top_varieties:\n",
    "        varieties[i] = 'other'\n",
    "    else:\n",
    "        varieties[i] = variety_values[i]\n",
    "\n",
    "df['top varieties'] = pd.Series(varieties, index = df.index)"
   ]
  },
  {
   "cell_type": "code",
   "execution_count": 9,
   "metadata": {},
   "outputs": [],
   "source": [
    "#Repeat step for 'country' and reduce number of categories.\n",
    "top_countries = [\"US\", \"France\",\"Italy\",\"Spain\",\"Portugal\",\"Chile\",\"Argentina\",\"Austria\",\"Germany\",\"New Zealand\",\"South Africa\"]\n",
    "country_values = df['country'].values\n",
    "\n",
    "countries = np.array([' '*max([len(item) for item in top_countries]) for i in range(df.shape[0])])\n",
    "for i in range(0, len(df['country'])):\n",
    "    if country_values[i] not in top_countries:\n",
    "        countries[i] = 'other'\n",
    "    else:\n",
    "        countries[i] = country_values[i]\n",
    "\n",
    "df['top countries'] = pd.Series(countries, index = df.index)"
   ]
  },
  {
   "cell_type": "code",
   "execution_count": 10,
   "metadata": {},
   "outputs": [],
   "source": [
    "#Repeat step for 'taster_name' and reduce number of categories.\n",
    "top_tasters = [\"Roger Voss\",\"Michael Schachner\",\"Kerin O’Keefe\",\"Virginie Boone\",\"Paul Gregutt\",\"Matt Kettmann\",\"Joe Czerwinski\",\"Sean P. Sullivan\",\"Jim Gordon\",\"Anna Lee C. Iijima\"]\n",
    "taster_values = df['taster_name'].values\n",
    "\n",
    "tasters = np.array([' '*max([len(item) for item in top_tasters]) for i in range(df.shape[0])])\n",
    "for i in range(0, len(df['taster_name'])):\n",
    "    if taster_values[i] not in top_tasters:\n",
    "        tasters[i] = 'other'\n",
    "    else:\n",
    "        tasters[i] = taster_values[i]\n",
    "\n",
    "df['top tasters'] = pd.Series(tasters, index = df.index)\n"
   ]
  },
  {
   "cell_type": "code",
   "execution_count": 11,
   "metadata": {},
   "outputs": [],
   "source": [
    "#Repeat step for 'province' and reduce number of categories.\n",
    "top_provinces = ['California','Washington','Bordeaux','Tuscany','Oregon','Burgundy','Northern Spain','Piedmont']\n",
    "province_values = df['province'].values\n",
    "\n",
    "provinces = np.array([' '*max([len(item) for item in top_provinces]) for i in range(df.shape[0])])\n",
    "for i in range(0, len(df['province'])):\n",
    "    if province_values[i] not in top_provinces:\n",
    "        provinces[i] = 'other'\n",
    "    else:\n",
    "        provinces[i] = province_values[i]\n",
    "        \n",
    "df['top provinces'] = pd.Series(provinces, index = df.index)\n"
   ]
  },
  {
   "cell_type": "code",
   "execution_count": 12,
   "metadata": {},
   "outputs": [],
   "source": [
    "#Repeat step for 'winery' and reduce number of categories.\n",
    "top_wineries = ['Wines & Winemakers','Testarossa','DFJ Vinhos','Williams Selyem','Louis Latour','Georges Duboeuf','Chateau Ste. Michelle','Concha y Toro','Columbia Crest','Kendall-Jackson']\n",
    "wine_values = df['winery'].values\n",
    "\n",
    "wineries = np.array([' '*max([len(item) for item in top_wineries]) for i in range(df.shape[0])])\n",
    "for i in range(0, len(df['winery'])):\n",
    "    if wine_values[i] not in top_wineries:\n",
    "        wineries[i] = 'other'\n",
    "    else:\n",
    "        wineries[i] = wine_values[i]\n",
    "\n",
    "df['top wineries'] = pd.Series(wineries, index = df.index)"
   ]
  },
  {
   "cell_type": "markdown",
   "metadata": {},
   "source": [
    "3.2 One Hot Encoding\n",
    "\n",
    "After grouping categorical data in the above step, we then had five additional columns for each grouped categorical feature. Next, we applied one hot encoding on those new columns.\n",
    "\n",
    "After running the code below, the data set is expanded to include new columns for each of the categories in the \"top\" lists above. If the wine matches one of these top categories or 'other,' then it contains a 1 value for that category; otherwise, the value is 0."
   ]
  },
  {
   "cell_type": "code",
   "execution_count": 13,
   "metadata": {},
   "outputs": [
    {
     "ename": "ValueError",
     "evalue": "could not convert string to float: 'other'",
     "output_type": "error",
     "traceback": [
      "\u001b[0;31m---------------------------------------------------------------------------\u001b[0m",
      "\u001b[0;31mValueError\u001b[0m                                Traceback (most recent call last)",
      "\u001b[0;32m<ipython-input-13-db540d248437>\u001b[0m in \u001b[0;36m<module>\u001b[0;34m()\u001b[0m\n\u001b[1;32m      4\u001b[0m \u001b[0;34m\u001b[0m\u001b[0m\n\u001b[1;32m      5\u001b[0m \u001b[0;31m#Encode wine variety column\u001b[0m\u001b[0;34m\u001b[0m\u001b[0;34m\u001b[0m\u001b[0m\n\u001b[0;32m----> 6\u001b[0;31m \u001b[0mone_hot_feature\u001b[0m \u001b[0;34m=\u001b[0m \u001b[0menc\u001b[0m\u001b[0;34m.\u001b[0m\u001b[0mfit_transform\u001b[0m\u001b[0;34m(\u001b[0m\u001b[0mdf\u001b[0m\u001b[0;34m[\u001b[0m\u001b[0;34m'top varieties'\u001b[0m\u001b[0;34m]\u001b[0m\u001b[0;34m.\u001b[0m\u001b[0mvalues\u001b[0m\u001b[0;34m.\u001b[0m\u001b[0mreshape\u001b[0m\u001b[0;34m(\u001b[0m\u001b[0;34m-\u001b[0m\u001b[0;36m1\u001b[0m\u001b[0;34m,\u001b[0m \u001b[0;36m1\u001b[0m\u001b[0;34m)\u001b[0m\u001b[0;34m)\u001b[0m\u001b[0;34m.\u001b[0m\u001b[0mtoarray\u001b[0m\u001b[0;34m(\u001b[0m\u001b[0;34m)\u001b[0m\u001b[0;34m\u001b[0m\u001b[0m\n\u001b[0m\u001b[1;32m      7\u001b[0m \u001b[0mvarieties_column\u001b[0m \u001b[0;34m=\u001b[0m \u001b[0;34m[\u001b[0m\u001b[0;34m'variety_'\u001b[0m\u001b[0;34m+\u001b[0m\u001b[0mstr\u001b[0m\u001b[0;34m(\u001b[0m\u001b[0mi\u001b[0m\u001b[0;34m)\u001b[0m \u001b[0;32mfor\u001b[0m \u001b[0mi\u001b[0m \u001b[0;32min\u001b[0m \u001b[0mrange\u001b[0m\u001b[0;34m(\u001b[0m\u001b[0mlen\u001b[0m\u001b[0;34m(\u001b[0m\u001b[0mtop_varieties\u001b[0m\u001b[0;34m)\u001b[0m\u001b[0;34m+\u001b[0m\u001b[0;36m1\u001b[0m\u001b[0;34m)\u001b[0m\u001b[0;34m]\u001b[0m\u001b[0;34m\u001b[0m\u001b[0m\n\u001b[1;32m      8\u001b[0m \u001b[0;32mfor\u001b[0m \u001b[0mi\u001b[0m \u001b[0;32min\u001b[0m \u001b[0mrange\u001b[0m\u001b[0;34m(\u001b[0m\u001b[0mlen\u001b[0m\u001b[0;34m(\u001b[0m\u001b[0mvarieties_column\u001b[0m\u001b[0;34m)\u001b[0m\u001b[0;34m)\u001b[0m\u001b[0;34m:\u001b[0m\u001b[0;34m\u001b[0m\u001b[0m\n",
      "\u001b[0;32m/anaconda3/lib/python3.6/site-packages/sklearn/preprocessing/data.py\u001b[0m in \u001b[0;36mfit_transform\u001b[0;34m(self, X, y)\u001b[0m\n\u001b[1;32m   2017\u001b[0m         \"\"\"\n\u001b[1;32m   2018\u001b[0m         return _transform_selected(X, self._fit_transform,\n\u001b[0;32m-> 2019\u001b[0;31m                                    self.categorical_features, copy=True)\n\u001b[0m\u001b[1;32m   2020\u001b[0m \u001b[0;34m\u001b[0m\u001b[0m\n\u001b[1;32m   2021\u001b[0m     \u001b[0;32mdef\u001b[0m \u001b[0m_transform\u001b[0m\u001b[0;34m(\u001b[0m\u001b[0mself\u001b[0m\u001b[0;34m,\u001b[0m \u001b[0mX\u001b[0m\u001b[0;34m)\u001b[0m\u001b[0;34m:\u001b[0m\u001b[0;34m\u001b[0m\u001b[0m\n",
      "\u001b[0;32m/anaconda3/lib/python3.6/site-packages/sklearn/preprocessing/data.py\u001b[0m in \u001b[0;36m_transform_selected\u001b[0;34m(X, transform, selected, copy)\u001b[0m\n\u001b[1;32m   1807\u001b[0m     \u001b[0mX\u001b[0m \u001b[0;34m:\u001b[0m \u001b[0marray\u001b[0m \u001b[0;32mor\u001b[0m \u001b[0msparse\u001b[0m \u001b[0mmatrix\u001b[0m\u001b[0;34m,\u001b[0m \u001b[0mshape\u001b[0m\u001b[0;34m=\u001b[0m\u001b[0;34m(\u001b[0m\u001b[0mn_samples\u001b[0m\u001b[0;34m,\u001b[0m \u001b[0mn_features_new\u001b[0m\u001b[0;34m)\u001b[0m\u001b[0;34m\u001b[0m\u001b[0m\n\u001b[1;32m   1808\u001b[0m     \"\"\"\n\u001b[0;32m-> 1809\u001b[0;31m     \u001b[0mX\u001b[0m \u001b[0;34m=\u001b[0m \u001b[0mcheck_array\u001b[0m\u001b[0;34m(\u001b[0m\u001b[0mX\u001b[0m\u001b[0;34m,\u001b[0m \u001b[0maccept_sparse\u001b[0m\u001b[0;34m=\u001b[0m\u001b[0;34m'csc'\u001b[0m\u001b[0;34m,\u001b[0m \u001b[0mcopy\u001b[0m\u001b[0;34m=\u001b[0m\u001b[0mcopy\u001b[0m\u001b[0;34m,\u001b[0m \u001b[0mdtype\u001b[0m\u001b[0;34m=\u001b[0m\u001b[0mFLOAT_DTYPES\u001b[0m\u001b[0;34m)\u001b[0m\u001b[0;34m\u001b[0m\u001b[0m\n\u001b[0m\u001b[1;32m   1810\u001b[0m \u001b[0;34m\u001b[0m\u001b[0m\n\u001b[1;32m   1811\u001b[0m     \u001b[0;32mif\u001b[0m \u001b[0misinstance\u001b[0m\u001b[0;34m(\u001b[0m\u001b[0mselected\u001b[0m\u001b[0;34m,\u001b[0m \u001b[0msix\u001b[0m\u001b[0;34m.\u001b[0m\u001b[0mstring_types\u001b[0m\u001b[0;34m)\u001b[0m \u001b[0;32mand\u001b[0m \u001b[0mselected\u001b[0m \u001b[0;34m==\u001b[0m \u001b[0;34m\"all\"\u001b[0m\u001b[0;34m:\u001b[0m\u001b[0;34m\u001b[0m\u001b[0m\n",
      "\u001b[0;32m/anaconda3/lib/python3.6/site-packages/sklearn/utils/validation.py\u001b[0m in \u001b[0;36mcheck_array\u001b[0;34m(array, accept_sparse, dtype, order, copy, force_all_finite, ensure_2d, allow_nd, ensure_min_samples, ensure_min_features, warn_on_dtype, estimator)\u001b[0m\n\u001b[1;32m    431\u001b[0m                                       force_all_finite)\n\u001b[1;32m    432\u001b[0m     \u001b[0;32melse\u001b[0m\u001b[0;34m:\u001b[0m\u001b[0;34m\u001b[0m\u001b[0m\n\u001b[0;32m--> 433\u001b[0;31m         \u001b[0marray\u001b[0m \u001b[0;34m=\u001b[0m \u001b[0mnp\u001b[0m\u001b[0;34m.\u001b[0m\u001b[0marray\u001b[0m\u001b[0;34m(\u001b[0m\u001b[0marray\u001b[0m\u001b[0;34m,\u001b[0m \u001b[0mdtype\u001b[0m\u001b[0;34m=\u001b[0m\u001b[0mdtype\u001b[0m\u001b[0;34m,\u001b[0m \u001b[0morder\u001b[0m\u001b[0;34m=\u001b[0m\u001b[0morder\u001b[0m\u001b[0;34m,\u001b[0m \u001b[0mcopy\u001b[0m\u001b[0;34m=\u001b[0m\u001b[0mcopy\u001b[0m\u001b[0;34m)\u001b[0m\u001b[0;34m\u001b[0m\u001b[0m\n\u001b[0m\u001b[1;32m    434\u001b[0m \u001b[0;34m\u001b[0m\u001b[0m\n\u001b[1;32m    435\u001b[0m         \u001b[0;32mif\u001b[0m \u001b[0mensure_2d\u001b[0m\u001b[0;34m:\u001b[0m\u001b[0;34m\u001b[0m\u001b[0m\n",
      "\u001b[0;31mValueError\u001b[0m: could not convert string to float: 'other'"
     ]
    }
   ],
   "source": [
    "#ONE HOT ENCODING\n",
    "from sklearn.preprocessing import OneHotEncoder\n",
    "enc = OneHotEncoder()\n",
    "\n",
    "#Encode wine variety column\n",
    "one_hot_feature = enc.fit_transform(df['top varieties'].values.reshape(-1, 1)).toarray()\n",
    "varieties_column = ['variety_'+str(i) for i in range(len(top_varieties)+1)]\n",
    "for i in range(len(varieties_column)):\n",
    "    df[varieties_column[i]]=pd.Series(one_hot_feature[:,i], index = df.index)\n",
    "    \n",
    "#Encode country column\n",
    "one_hot_feature = enc.fit_transform(df['top countries'].values.reshape(-1,1)).toarray()                                \n",
    "country_column = ['country_'+str(i) for i in range(len(top_countries)+1)]\n",
    "for i in range(len(country_column)):\n",
    "    df[country_column[i]]=pd.Series(one_hot_feature[:,i], index = df.index)\n",
    "\n",
    "#Encode taster name column\n",
    "one_hot_feature = enc.fit_transform(df['top tasters'].values.reshape(-1,1)).toarray()                                \n",
    "tasters_column = ['taster_'+str(i) for i in range(len(top_tasters)+1)]\n",
    "for i in range(len(tasters_column)):\n",
    "    df[tasters_column[i]] = pd.Series(one_hot_feature[:,i], index = df.index)\n",
    "\n",
    "#Encode province column\n",
    "one_hot_feature = enc.fit_transform(df['top provinces'].values.reshape(-1,1)).toarray()   \n",
    "provinces_column = ['province_'+str(i) for i in range(len(top_provinces)+1)]\n",
    "for i in range(len(provinces_column)):\n",
    "    df[provinces_column[i]] = pd.Series(one_hot_feature[:,i], index = df.index)\n",
    "\n",
    "#Encode winery column\n",
    "one_hot_feature = enc.fit_transform(df['top wineries'].values.reshape(-1,1)).toarray() \n",
    "wineries_column = ['winery_'+str(i) for i in range(len(top_wineries)+1)]\n",
    "for i in range(len(wineries_column)):\n",
    "    df[wineries_column[i]] = pd.Series(one_hot_feature[:,i], index = df.index)\n",
    "\n",
    "#Store list of top category names to be used later.\n",
    "names = [top_varieties,top_countries,top_tasters,top_provinces,top_wineries]\n",
    "df.head(25)"
   ]
  },
  {
   "cell_type": "markdown",
   "metadata": {},
   "source": [
    "3.3 Scaling\n",
    "\n",
    "After addressing the categorical data, we turned our attention to the numerical features (points, Sentiment, Subjectivity). Each of these features contains data within different ranges, so we scaled each of these features using MinMaxScaler. This takes the range of values in a column and assigns 1 to the highest value and 0 to the lowest. Thus, all the data in that column lies between 0 and 1, allowing for more accurate modeling of these features."
   ]
  },
  {
   "cell_type": "code",
   "execution_count": 14,
   "metadata": {},
   "outputs": [],
   "source": [
    "#SCALE CONTINUOUS DATA\n",
    "from sklearn.preprocessing import MinMaxScaler\n",
    "scaler = MinMaxScaler()\n",
    "df[['points','Sentiment','Subjectivity']] = scaler.fit_transform(df[['points','Sentiment','Subjectivity']])\n",
    "\n",
    "#Remember: The target variable 'price' should never be scaled."
   ]
  },
  {
   "cell_type": "markdown",
   "metadata": {},
   "source": [
    "# Stage 4: Modeling"
   ]
  },
  {
   "cell_type": "markdown",
   "metadata": {},
   "source": [
    "4.1 Dropping Irrelevant Data Features\n",
    "\n",
    "Before a model can be generated, we dropped all columns that cannot be processed in a regression model. This includes certain features that we chose not to encode, such as the taster's twitter handle, but also those columns such as 'top tasters' that were generated in the process of one hot encoding."
   ]
  },
  {
   "cell_type": "code",
   "execution_count": 15,
   "metadata": {},
   "outputs": [
    {
     "data": {
      "text/html": [
       "<div>\n",
       "<style scoped>\n",
       "    .dataframe tbody tr th:only-of-type {\n",
       "        vertical-align: middle;\n",
       "    }\n",
       "\n",
       "    .dataframe tbody tr th {\n",
       "        vertical-align: top;\n",
       "    }\n",
       "\n",
       "    .dataframe thead th {\n",
       "        text-align: right;\n",
       "    }\n",
       "</style>\n",
       "<table border=\"1\" class=\"dataframe\">\n",
       "  <thead>\n",
       "    <tr style=\"text-align: right;\">\n",
       "      <th></th>\n",
       "      <th>points</th>\n",
       "      <th>price</th>\n",
       "      <th>Sentiment</th>\n",
       "      <th>Subjectivity</th>\n",
       "    </tr>\n",
       "  </thead>\n",
       "  <tbody>\n",
       "    <tr>\n",
       "      <th>0</th>\n",
       "      <td>0.35</td>\n",
       "      <td>35.0</td>\n",
       "      <td>0.518519</td>\n",
       "      <td>0.733333</td>\n",
       "    </tr>\n",
       "    <tr>\n",
       "      <th>1</th>\n",
       "      <td>0.35</td>\n",
       "      <td>15.0</td>\n",
       "      <td>0.566667</td>\n",
       "      <td>0.460000</td>\n",
       "    </tr>\n",
       "    <tr>\n",
       "      <th>2</th>\n",
       "      <td>0.35</td>\n",
       "      <td>14.0</td>\n",
       "      <td>0.458333</td>\n",
       "      <td>0.358333</td>\n",
       "    </tr>\n",
       "    <tr>\n",
       "      <th>3</th>\n",
       "      <td>0.35</td>\n",
       "      <td>13.0</td>\n",
       "      <td>0.537037</td>\n",
       "      <td>0.333333</td>\n",
       "    </tr>\n",
       "    <tr>\n",
       "      <th>4</th>\n",
       "      <td>0.35</td>\n",
       "      <td>65.0</td>\n",
       "      <td>0.614815</td>\n",
       "      <td>0.448718</td>\n",
       "    </tr>\n",
       "    <tr>\n",
       "      <th>5</th>\n",
       "      <td>0.35</td>\n",
       "      <td>15.0</td>\n",
       "      <td>0.459259</td>\n",
       "      <td>0.450000</td>\n",
       "    </tr>\n",
       "    <tr>\n",
       "      <th>6</th>\n",
       "      <td>0.35</td>\n",
       "      <td>16.0</td>\n",
       "      <td>0.566667</td>\n",
       "      <td>0.330000</td>\n",
       "    </tr>\n",
       "    <tr>\n",
       "      <th>7</th>\n",
       "      <td>0.35</td>\n",
       "      <td>24.0</td>\n",
       "      <td>0.457407</td>\n",
       "      <td>0.315000</td>\n",
       "    </tr>\n",
       "    <tr>\n",
       "      <th>8</th>\n",
       "      <td>0.35</td>\n",
       "      <td>12.0</td>\n",
       "      <td>0.583333</td>\n",
       "      <td>0.700000</td>\n",
       "    </tr>\n",
       "    <tr>\n",
       "      <th>9</th>\n",
       "      <td>0.35</td>\n",
       "      <td>27.0</td>\n",
       "      <td>0.622685</td>\n",
       "      <td>0.566667</td>\n",
       "    </tr>\n",
       "  </tbody>\n",
       "</table>\n",
       "</div>"
      ],
      "text/plain": [
       "   points  price  Sentiment  Subjectivity\n",
       "0    0.35   35.0   0.518519      0.733333\n",
       "1    0.35   15.0   0.566667      0.460000\n",
       "2    0.35   14.0   0.458333      0.358333\n",
       "3    0.35   13.0   0.537037      0.333333\n",
       "4    0.35   65.0   0.614815      0.448718\n",
       "5    0.35   15.0   0.459259      0.450000\n",
       "6    0.35   16.0   0.566667      0.330000\n",
       "7    0.35   24.0   0.457407      0.315000\n",
       "8    0.35   12.0   0.583333      0.700000\n",
       "9    0.35   27.0   0.622685      0.566667"
      ]
     },
     "execution_count": 15,
     "metadata": {},
     "output_type": "execute_result"
    }
   ],
   "source": [
    "#If we cannot transform categories into continuous data, then we will exclude from the model.\n",
    "#Additionally, we removed columns previously created as step in reducing the number of categories.\n",
    "\n",
    "df = df.drop('Unnamed: 0', axis=1)\n",
    "df = df.drop('Unnamed: 0.1', axis=1)\n",
    "df = df.drop('description', axis=1)\n",
    "df = df.drop('designation', axis=1)\n",
    "df = df.drop('winery', axis=1)\n",
    "df = df.drop('country', axis=1)\n",
    "df = df.drop('province', axis=1)\n",
    "df = df.drop('region_1', axis=1)\n",
    "df = df.drop('region_2', axis=1)\n",
    "df = df.drop('taster_name', axis=1)\n",
    "df = df.drop('taster_twitter_handle', axis=1)\n",
    "df = df.drop('title', axis=1)\n",
    "df = df.drop('variety', axis=1)\n",
    "df = df.drop('top varieties',axis=1)\n",
    "df = df.drop('top tasters', axis=1)\n",
    "df = df.drop('top provinces',axis=1)\n",
    "df = df.drop('top countries',axis=1)\n",
    "df = df.drop('top wineries',axis=1)\n",
    "df.head(10)"
   ]
  },
  {
   "cell_type": "markdown",
   "metadata": {},
   "source": [
    "4.2 Run Linear Model and Examine Feature Coefficients\n",
    "\n",
    "In this first model, we implemented a simple linear regression model to see the coefficient values assigned to each feature variable. Since we have already scaled this data set, the coefficients give us a sign of the positive or negative correlation of each feature to our target variable. To do this, we implemented a cross-validation of the model using only the training set. Consequently, we could generate cross-validation scores and get an intuition for the model's accuracy through the mean of its values.\n",
    "\n",
    "In dealing with the issue of collinearity, we first attempted to remove one column from each of the categorical variables (in this case, the fifth column). Then, after fitting the linear model, we could see the differentiation between coefficients much more easily. Previously, the differences between coefficients were much more obscured because  the sum of each series of categorical features sums up to 1.\n",
    "\n",
    "The coefficient results seem to confirm the intuitions suggested in the visualizations above. The first feature 'points' presents the strongest evidence of correlation, while 'Sentiment' actually offers a negative correlation. Moreover, specific geographical information, such as winery, offered better prediction of price than general information, such as country."
   ]
  },
  {
   "cell_type": "code",
   "execution_count": 16,
   "metadata": {},
   "outputs": [
    {
     "ename": "KeyError",
     "evalue": "\"labels ['variety_5'] not contained in axis\"",
     "output_type": "error",
     "traceback": [
      "\u001b[0;31m---------------------------------------------------------------------------\u001b[0m",
      "\u001b[0;31mKeyError\u001b[0m                                  Traceback (most recent call last)",
      "\u001b[0;32m<ipython-input-16-c378aef8e25b>\u001b[0m in \u001b[0;36m<module>\u001b[0;34m()\u001b[0m\n\u001b[1;32m      6\u001b[0m \u001b[0;34m\u001b[0m\u001b[0m\n\u001b[1;32m      7\u001b[0m \u001b[0;31m#Removing certain collinear variables improves accuracy of the coefficients.\u001b[0m\u001b[0;34m\u001b[0m\u001b[0;34m\u001b[0m\u001b[0m\n\u001b[0;32m----> 8\u001b[0;31m \u001b[0mX\u001b[0m \u001b[0;34m=\u001b[0m \u001b[0mdf\u001b[0m\u001b[0;34m.\u001b[0m\u001b[0mdrop\u001b[0m\u001b[0;34m(\u001b[0m\u001b[0;34m'variety_5'\u001b[0m\u001b[0;34m,\u001b[0m \u001b[0maxis\u001b[0m\u001b[0;34m=\u001b[0m\u001b[0;36m1\u001b[0m\u001b[0;34m)\u001b[0m\u001b[0;34m\u001b[0m\u001b[0m\n\u001b[0m\u001b[1;32m      9\u001b[0m \u001b[0mX\u001b[0m \u001b[0;34m=\u001b[0m \u001b[0mX\u001b[0m\u001b[0;34m.\u001b[0m\u001b[0mdrop\u001b[0m\u001b[0;34m(\u001b[0m\u001b[0;34m'country_5'\u001b[0m\u001b[0;34m,\u001b[0m \u001b[0maxis\u001b[0m \u001b[0;34m=\u001b[0m\u001b[0;36m1\u001b[0m\u001b[0;34m)\u001b[0m\u001b[0;34m\u001b[0m\u001b[0m\n\u001b[1;32m     10\u001b[0m \u001b[0mX\u001b[0m \u001b[0;34m=\u001b[0m \u001b[0mX\u001b[0m\u001b[0;34m.\u001b[0m\u001b[0mdrop\u001b[0m\u001b[0;34m(\u001b[0m\u001b[0;34m'taster_5'\u001b[0m\u001b[0;34m,\u001b[0m \u001b[0maxis\u001b[0m \u001b[0;34m=\u001b[0m\u001b[0;36m1\u001b[0m\u001b[0;34m)\u001b[0m\u001b[0;34m\u001b[0m\u001b[0m\n",
      "\u001b[0;32m/anaconda3/lib/python3.6/site-packages/pandas/core/frame.py\u001b[0m in \u001b[0;36mdrop\u001b[0;34m(self, labels, axis, index, columns, level, inplace, errors)\u001b[0m\n\u001b[1;32m   3692\u001b[0m                                            \u001b[0mindex\u001b[0m\u001b[0;34m=\u001b[0m\u001b[0mindex\u001b[0m\u001b[0;34m,\u001b[0m \u001b[0mcolumns\u001b[0m\u001b[0;34m=\u001b[0m\u001b[0mcolumns\u001b[0m\u001b[0;34m,\u001b[0m\u001b[0;34m\u001b[0m\u001b[0m\n\u001b[1;32m   3693\u001b[0m                                            \u001b[0mlevel\u001b[0m\u001b[0;34m=\u001b[0m\u001b[0mlevel\u001b[0m\u001b[0;34m,\u001b[0m \u001b[0minplace\u001b[0m\u001b[0;34m=\u001b[0m\u001b[0minplace\u001b[0m\u001b[0;34m,\u001b[0m\u001b[0;34m\u001b[0m\u001b[0m\n\u001b[0;32m-> 3694\u001b[0;31m                                            errors=errors)\n\u001b[0m\u001b[1;32m   3695\u001b[0m \u001b[0;34m\u001b[0m\u001b[0m\n\u001b[1;32m   3696\u001b[0m     @rewrite_axis_style_signature('mapper', [('copy', True),\n",
      "\u001b[0;32m/anaconda3/lib/python3.6/site-packages/pandas/core/generic.py\u001b[0m in \u001b[0;36mdrop\u001b[0;34m(self, labels, axis, index, columns, level, inplace, errors)\u001b[0m\n\u001b[1;32m   3106\u001b[0m         \u001b[0;32mfor\u001b[0m \u001b[0maxis\u001b[0m\u001b[0;34m,\u001b[0m \u001b[0mlabels\u001b[0m \u001b[0;32min\u001b[0m \u001b[0maxes\u001b[0m\u001b[0;34m.\u001b[0m\u001b[0mitems\u001b[0m\u001b[0;34m(\u001b[0m\u001b[0;34m)\u001b[0m\u001b[0;34m:\u001b[0m\u001b[0;34m\u001b[0m\u001b[0m\n\u001b[1;32m   3107\u001b[0m             \u001b[0;32mif\u001b[0m \u001b[0mlabels\u001b[0m \u001b[0;32mis\u001b[0m \u001b[0;32mnot\u001b[0m \u001b[0;32mNone\u001b[0m\u001b[0;34m:\u001b[0m\u001b[0;34m\u001b[0m\u001b[0m\n\u001b[0;32m-> 3108\u001b[0;31m                 \u001b[0mobj\u001b[0m \u001b[0;34m=\u001b[0m \u001b[0mobj\u001b[0m\u001b[0;34m.\u001b[0m\u001b[0m_drop_axis\u001b[0m\u001b[0;34m(\u001b[0m\u001b[0mlabels\u001b[0m\u001b[0;34m,\u001b[0m \u001b[0maxis\u001b[0m\u001b[0;34m,\u001b[0m \u001b[0mlevel\u001b[0m\u001b[0;34m=\u001b[0m\u001b[0mlevel\u001b[0m\u001b[0;34m,\u001b[0m \u001b[0merrors\u001b[0m\u001b[0;34m=\u001b[0m\u001b[0merrors\u001b[0m\u001b[0;34m)\u001b[0m\u001b[0;34m\u001b[0m\u001b[0m\n\u001b[0m\u001b[1;32m   3109\u001b[0m \u001b[0;34m\u001b[0m\u001b[0m\n\u001b[1;32m   3110\u001b[0m         \u001b[0;32mif\u001b[0m \u001b[0minplace\u001b[0m\u001b[0;34m:\u001b[0m\u001b[0;34m\u001b[0m\u001b[0m\n",
      "\u001b[0;32m/anaconda3/lib/python3.6/site-packages/pandas/core/generic.py\u001b[0m in \u001b[0;36m_drop_axis\u001b[0;34m(self, labels, axis, level, errors)\u001b[0m\n\u001b[1;32m   3138\u001b[0m                 \u001b[0mnew_axis\u001b[0m \u001b[0;34m=\u001b[0m \u001b[0maxis\u001b[0m\u001b[0;34m.\u001b[0m\u001b[0mdrop\u001b[0m\u001b[0;34m(\u001b[0m\u001b[0mlabels\u001b[0m\u001b[0;34m,\u001b[0m \u001b[0mlevel\u001b[0m\u001b[0;34m=\u001b[0m\u001b[0mlevel\u001b[0m\u001b[0;34m,\u001b[0m \u001b[0merrors\u001b[0m\u001b[0;34m=\u001b[0m\u001b[0merrors\u001b[0m\u001b[0;34m)\u001b[0m\u001b[0;34m\u001b[0m\u001b[0m\n\u001b[1;32m   3139\u001b[0m             \u001b[0;32melse\u001b[0m\u001b[0;34m:\u001b[0m\u001b[0;34m\u001b[0m\u001b[0m\n\u001b[0;32m-> 3140\u001b[0;31m                 \u001b[0mnew_axis\u001b[0m \u001b[0;34m=\u001b[0m \u001b[0maxis\u001b[0m\u001b[0;34m.\u001b[0m\u001b[0mdrop\u001b[0m\u001b[0;34m(\u001b[0m\u001b[0mlabels\u001b[0m\u001b[0;34m,\u001b[0m \u001b[0merrors\u001b[0m\u001b[0;34m=\u001b[0m\u001b[0merrors\u001b[0m\u001b[0;34m)\u001b[0m\u001b[0;34m\u001b[0m\u001b[0m\n\u001b[0m\u001b[1;32m   3141\u001b[0m             \u001b[0mdropped\u001b[0m \u001b[0;34m=\u001b[0m \u001b[0mself\u001b[0m\u001b[0;34m.\u001b[0m\u001b[0mreindex\u001b[0m\u001b[0;34m(\u001b[0m\u001b[0;34m**\u001b[0m\u001b[0;34m{\u001b[0m\u001b[0maxis_name\u001b[0m\u001b[0;34m:\u001b[0m \u001b[0mnew_axis\u001b[0m\u001b[0;34m}\u001b[0m\u001b[0;34m)\u001b[0m\u001b[0;34m\u001b[0m\u001b[0m\n\u001b[1;32m   3142\u001b[0m             \u001b[0;32mtry\u001b[0m\u001b[0;34m:\u001b[0m\u001b[0;34m\u001b[0m\u001b[0m\n",
      "\u001b[0;32m/anaconda3/lib/python3.6/site-packages/pandas/core/indexes/base.py\u001b[0m in \u001b[0;36mdrop\u001b[0;34m(self, labels, errors)\u001b[0m\n\u001b[1;32m   4385\u001b[0m             \u001b[0;32mif\u001b[0m \u001b[0merrors\u001b[0m \u001b[0;34m!=\u001b[0m \u001b[0;34m'ignore'\u001b[0m\u001b[0;34m:\u001b[0m\u001b[0;34m\u001b[0m\u001b[0m\n\u001b[1;32m   4386\u001b[0m                 raise KeyError(\n\u001b[0;32m-> 4387\u001b[0;31m                     'labels %s not contained in axis' % labels[mask])\n\u001b[0m\u001b[1;32m   4388\u001b[0m             \u001b[0mindexer\u001b[0m \u001b[0;34m=\u001b[0m \u001b[0mindexer\u001b[0m\u001b[0;34m[\u001b[0m\u001b[0;34m~\u001b[0m\u001b[0mmask\u001b[0m\u001b[0;34m]\u001b[0m\u001b[0;34m\u001b[0m\u001b[0m\n\u001b[1;32m   4389\u001b[0m         \u001b[0;32mreturn\u001b[0m \u001b[0mself\u001b[0m\u001b[0;34m.\u001b[0m\u001b[0mdelete\u001b[0m\u001b[0;34m(\u001b[0m\u001b[0mindexer\u001b[0m\u001b[0;34m)\u001b[0m\u001b[0;34m\u001b[0m\u001b[0m\n",
      "\u001b[0;31mKeyError\u001b[0m: \"labels ['variety_5'] not contained in axis\""
     ]
    }
   ],
   "source": [
    "#MODEL 1: LINEAR REGRESSION AND FEATURE COEFFICIENTS\n",
    "#This part shows the coefficients of each feature in a linear model. The first feature 'points' has the highest value.\n",
    "from sklearn.model_selection import train_test_split, cross_val_score, KFold\n",
    "from sklearn.linear_model import LinearRegression\n",
    "from copy import deepcopy\n",
    "\n",
    "#Removing certain collinear variables improves accuracy of the coefficients.\n",
    "X = df.drop('variety_5', axis=1)\n",
    "X = X.drop('country_5', axis =1)\n",
    "X = X.drop('taster_5', axis =1)\n",
    "X = X.drop('province_5', axis =1)\n",
    "X = X.drop('winery_5', axis =1)\n",
    "\n",
    "#Split training set\n",
    "X = X.drop('price', axis=1)\n",
    "y = df['price']\n",
    "xTr,xTe,yTr,yTe = train_test_split(X,y,test_size=0.1,random_state=42)\n",
    "\n",
    "#Cross-validation of linear model.\n",
    "model = LinearRegression()\n",
    "cross_scores = cross_val_score(model,xTr,yTr,cv=KFold(n_splits=30, shuffle=True, random_state=42),scoring='r2')\n",
    "\n",
    "#Update list of category names after collinear variables removed.\n",
    "names2 = deepcopy(names) #Copy list before eliminating data\n",
    "for i in range(len(names2)):\n",
    "    names2[i].append('Other') #Add 'other' category to end of list for each feature.\n",
    "    names2[i].remove(names2[i][5]) #Remove the fifth category of each list (See above)\n",
    "names2 = sum(names2, [])\n",
    "names2 = ['NA', 'NA', 'NA'] + names2 #Insert NA for points, sentiment, subjectivity.\n",
    "\n",
    "#Generate a new Dataframe consisting of the features and their coefficients\n",
    "labels = np.array(X.columns.values)\n",
    "coefficients = np.array(model.fit(xTr,yTr).coef_)\n",
    "coef_results = pd.DataFrame({'Features': labels, 'Coefficients': coefficients, 'Names': np.array(names2)})\n",
    "\n",
    "print(coef_results)\n",
    "\n",
    "print('Cross-Validation Scores: ',cross_scores)\n",
    "print('Test Score: ',cross_scores.mean())"
   ]
  },
  {
   "cell_type": "markdown",
   "metadata": {},
   "source": [
    "In addition to the above approach, we also viewed the coefficients after removing 'country.' This might also reduce the problem of collinearity because country data is always correlated with the other categorical features of province and winery. The results support the observation that 'points,' 'winery,' and 'province' offered the strongest positive correlation to price. \n",
    "\n",
    "Here, we use the model Ridge because, when doing least squares regression, we noticed some numerical overflow issues that a linear model could not solve. Previously, our coefficient scores were inordinately large numbers. This was due to the removal of the feature 'country,' which resulted in the data becoming more collinear, since a larger fraction of the total data was onehotencoded. One effect of the Ridge model was that these coefficients returned to their normal scale."
   ]
  },
  {
   "cell_type": "code",
   "execution_count": 17,
   "metadata": {},
   "outputs": [
    {
     "ename": "NameError",
     "evalue": "name 'country_column' is not defined",
     "output_type": "error",
     "traceback": [
      "\u001b[0;31m---------------------------------------------------------------------------\u001b[0m",
      "\u001b[0;31mNameError\u001b[0m                                 Traceback (most recent call last)",
      "\u001b[0;32m<ipython-input-17-17e0f06e2e3a>\u001b[0m in \u001b[0;36m<module>\u001b[0;34m()\u001b[0m\n\u001b[1;32m      5\u001b[0m \u001b[0;32mfrom\u001b[0m \u001b[0mcopy\u001b[0m \u001b[0;32mimport\u001b[0m \u001b[0mdeepcopy\u001b[0m\u001b[0;34m\u001b[0m\u001b[0m\n\u001b[1;32m      6\u001b[0m \u001b[0;34m\u001b[0m\u001b[0m\n\u001b[0;32m----> 7\u001b[0;31m \u001b[0mX\u001b[0m \u001b[0;34m=\u001b[0m \u001b[0mdf\u001b[0m\u001b[0;34m.\u001b[0m\u001b[0mdrop\u001b[0m\u001b[0;34m(\u001b[0m\u001b[0mcountry_column\u001b[0m\u001b[0;34m,\u001b[0m\u001b[0maxis\u001b[0m\u001b[0;34m=\u001b[0m\u001b[0;36m1\u001b[0m\u001b[0;34m)\u001b[0m\u001b[0;34m\u001b[0m\u001b[0m\n\u001b[0m\u001b[1;32m      8\u001b[0m \u001b[0;34m\u001b[0m\u001b[0m\n\u001b[1;32m      9\u001b[0m \u001b[0;31m#Split training set\u001b[0m\u001b[0;34m\u001b[0m\u001b[0;34m\u001b[0m\u001b[0m\n",
      "\u001b[0;31mNameError\u001b[0m: name 'country_column' is not defined"
     ]
    }
   ],
   "source": [
    "#MODEL 1: RIDGE REGRESSION AND FEATURE COEFFICIENTS\n",
    "#This part shows the coefficients of each feature in a linear model. The first feature 'points' has the highest value.\n",
    "from sklearn.model_selection import train_test_split, cross_val_score, KFold\n",
    "from sklearn.linear_model import Ridge\n",
    "from copy import deepcopy\n",
    "\n",
    "X = df.drop(country_column,axis=1)\n",
    "\n",
    "#Split training set\n",
    "X = X.drop('price', axis=1)\n",
    "y = df['price']\n",
    "xTr,xTe,yTr,yTe = train_test_split(X,y,test_size=0.1,random_state=42)\n",
    "\n",
    "#Update list of category names after collinear variables removed.\n",
    "names3 = deepcopy(names)\n",
    "for i in range(len(names3)):\n",
    "    names3[i].append('Other') #Add 'other' category to end of list for each feature.\n",
    "names3.remove(names3[1]) #Remove the 'country' feature.\n",
    "names3 = sum(names3, [])\n",
    "names3 = ['NA', 'NA', 'NA'] + names3 #Insert NA for points, sentiment, subjectivity.\n",
    "\n",
    "#Cross-validation of linear model.\n",
    "model = Ridge(alpha=1)\n",
    "cross_scores = cross_val_score(model,xTr,yTr,cv=KFold(n_splits=30, shuffle=True, random_state=42),scoring='r2')\n",
    "\n",
    "#Generate a new Dataframe consisting of the features and their coefficients\n",
    "labels = np.array(X.columns.values)\n",
    "coefficients = np.array(model.fit(xTr,yTr).coef_)\n",
    "coef_results = pd.DataFrame({'Features': labels, 'Coefficients': coefficients, 'Names': np.array(names3)})\n",
    "\n",
    "print(coef_results)\n",
    "print('Cross-Validation Scores: ',cross_scores)\n",
    "print('Test score: ',cross_scores.mean())"
   ]
  },
  {
   "cell_type": "markdown",
   "metadata": {},
   "source": [
    "4.3 Stacking\n",
    "\n",
    "To produce the highest possible accuracy of our model, we engage in an ensemble stacking approach consisting of the following models:\n",
    "\n",
    "Linear Regression: This model assumes a linear relationship between the dependent variable and each independent variable. It makes sense for us to use it, especially on the point ratings and sentiment scores, as those numeric values hopefully correlate with the price.\n",
    "\n",
    "KNN Regression: KNN works by finding the K nearest neighbors to the point it is trying to predict and using those to make its prediction. This model could be effective given our intuition that 'close' wines often share similar charactersitics (For example, French wines might be of a similar taste and quality, thereby producing similar reviews). However, this approach is computationally expensive, and given the size of our data set, this step of the model may take up to 10 minutes to load.\n",
    "\n",
    "Ridge Regression: Ridge is a regularization method for linear regression, which also may help reduce the problem of collinearity when performing least squares regression. Since we OneHotEncoded categorical data, we risk collinearity between the different categories of each feature. This means that the columns for country, for example, always sum to one and therefore would have similar weights. We choose this model because it compensates for some of the weaknesses of a linear model, since Ridge regression reduces the complexity of the data and helps prevent overfitting.\n",
    "\n",
    "Decision Tree Regression: This model builds a decision tree for the data. This seems appropriate given the large amount of categorical data we have. It can compute results relatively quickly, especially for data that is not necessarily linear separable, as ours might be.\n",
    "\n",
    "SGD Regression: This model uses Stochastic Gradient Descent to perform linear regression on the data. This is another data-efficient algorithm for linear regression and therefore fits well into our approach."
   ]
  },
  {
   "cell_type": "code",
   "execution_count": 18,
   "metadata": {},
   "outputs": [
    {
     "name": "stdout",
     "output_type": "stream",
     "text": [
      "Linear Score:  0.292089308781\n"
     ]
    }
   ],
   "source": [
    "#STACKING AND CROSS-VALIDATION\n",
    "from sklearn.model_selection import train_test_split, KFold, cross_val_predict, cross_val_score\n",
    "from sklearn.linear_model import LinearRegression\n",
    "\n",
    "#Split training and test set\n",
    "X = df.drop('price', axis=1)\n",
    "y = df['price']\n",
    "X_train, X_test, Y_train, Y_test = train_test_split(X, y, test_size=.1, random_state=42)\n",
    "\n",
    "#STEP 1: LINEAR MODEL\n",
    "linear = LinearRegression()\n",
    "\n",
    "#Generate model cross-validation scores\n",
    "linear_scores = cross_val_score(linear,X_train,Y_train,cv=KFold(n_splits=30, shuffle=True, random_state=42))\n",
    "\n",
    "#Generate model predictions\n",
    "linear.fit(X_train,Y_train)\n",
    "linear_train_pred = linear.predict(X_train)\n",
    "linear_test_pred = linear.predict(X_test)\n",
    "\n",
    "print('Linear Score: ', linear_scores.mean())"
   ]
  },
  {
   "cell_type": "markdown",
   "metadata": {},
   "source": [
    "NOTE: The KNN step may take several minutes to load due to the number of computations required for our data set."
   ]
  },
  {
   "cell_type": "code",
   "execution_count": 19,
   "metadata": {},
   "outputs": [
    {
     "name": "stdout",
     "output_type": "stream",
     "text": [
      "KNN Score:  0.285805177371\n"
     ]
    }
   ],
   "source": [
    "# STACKING STEP 2: KNN\n",
    "from sklearn.neighbors import KNeighborsRegressor\n",
    "\n",
    "knn = KNeighborsRegressor(n_neighbors =20)\n",
    "knn_scores = cross_val_score(knn,X_train,Y_train,cv=KFold(n_splits=30, shuffle=True, random_state=42))\n",
    "knn.fit(X_train,Y_train)\n",
    "knn_train_pred = knn.predict(X_train)\n",
    "knn_test_pred = knn.predict(X_test)\n",
    "\n",
    "print('KNN Score: ', knn_scores.mean())"
   ]
  },
  {
   "cell_type": "code",
   "execution_count": 20,
   "metadata": {},
   "outputs": [
    {
     "name": "stdout",
     "output_type": "stream",
     "text": [
      "Ridge Score:  0.292088104817\n"
     ]
    }
   ],
   "source": [
    "#STACKING STEP 3: RIDGE\n",
    "from sklearn.linear_model import Ridge\n",
    "\n",
    "ridge = Ridge(alpha = 5)\n",
    "ridge_scores = cross_val_score(ridge,X_train,Y_train,cv=KFold(n_splits=30, shuffle=True, random_state=42))\n",
    "ridge.fit(X_train,Y_train)\n",
    "ridge_train_pred = ridge.predict(X_train)\n",
    "ridge_test_pred = ridge.predict(X_test)\n",
    "\n",
    "print('Ridge Score: ', ridge_scores.mean())"
   ]
  },
  {
   "cell_type": "code",
   "execution_count": 21,
   "metadata": {},
   "outputs": [
    {
     "name": "stdout",
     "output_type": "stream",
     "text": [
      "Tree Score:  0.300744664177\n"
     ]
    }
   ],
   "source": [
    "#STACKING STEP 4: DECISION TREE\n",
    "from sklearn.tree import DecisionTreeRegressor\n",
    "\n",
    "tree = DecisionTreeRegressor(random_state=42,min_samples_leaf=20,max_depth=10)\n",
    "\n",
    "tree_scores = cross_val_score(tree,X_train,Y_train,cv=KFold(n_splits=30, shuffle=True, random_state=42))\n",
    "tree.fit(X_train,Y_train)\n",
    "tree_train_pred = tree.predict(X_train)\n",
    "tree_test_pred = tree.predict(X_test)\n",
    "\n",
    "print('Tree Score: ', tree_scores.mean())"
   ]
  },
  {
   "cell_type": "code",
   "execution_count": 22,
   "metadata": {},
   "outputs": [
    {
     "name": "stderr",
     "output_type": "stream",
     "text": [
      "/anaconda3/lib/python3.6/site-packages/sklearn/linear_model/stochastic_gradient.py:128: FutureWarning: max_iter and tol parameters have been added in <class 'sklearn.linear_model.stochastic_gradient.SGDRegressor'> in 0.19. If both are left unset, they default to max_iter=5 and tol=None. If tol is not None, max_iter defaults to max_iter=1000. From 0.21, default max_iter will be 1000, and default tol will be 1e-3.\n",
      "  \"and default tol will be 1e-3.\" % type(self), FutureWarning)\n",
      "/anaconda3/lib/python3.6/site-packages/sklearn/linear_model/stochastic_gradient.py:128: FutureWarning: max_iter and tol parameters have been added in <class 'sklearn.linear_model.stochastic_gradient.SGDRegressor'> in 0.19. If both are left unset, they default to max_iter=5 and tol=None. If tol is not None, max_iter defaults to max_iter=1000. From 0.21, default max_iter will be 1000, and default tol will be 1e-3.\n",
      "  \"and default tol will be 1e-3.\" % type(self), FutureWarning)\n",
      "/anaconda3/lib/python3.6/site-packages/sklearn/linear_model/stochastic_gradient.py:128: FutureWarning: max_iter and tol parameters have been added in <class 'sklearn.linear_model.stochastic_gradient.SGDRegressor'> in 0.19. If both are left unset, they default to max_iter=5 and tol=None. If tol is not None, max_iter defaults to max_iter=1000. From 0.21, default max_iter will be 1000, and default tol will be 1e-3.\n",
      "  \"and default tol will be 1e-3.\" % type(self), FutureWarning)\n",
      "/anaconda3/lib/python3.6/site-packages/sklearn/linear_model/stochastic_gradient.py:128: FutureWarning: max_iter and tol parameters have been added in <class 'sklearn.linear_model.stochastic_gradient.SGDRegressor'> in 0.19. If both are left unset, they default to max_iter=5 and tol=None. If tol is not None, max_iter defaults to max_iter=1000. From 0.21, default max_iter will be 1000, and default tol will be 1e-3.\n",
      "  \"and default tol will be 1e-3.\" % type(self), FutureWarning)\n",
      "/anaconda3/lib/python3.6/site-packages/sklearn/linear_model/stochastic_gradient.py:128: FutureWarning: max_iter and tol parameters have been added in <class 'sklearn.linear_model.stochastic_gradient.SGDRegressor'> in 0.19. If both are left unset, they default to max_iter=5 and tol=None. If tol is not None, max_iter defaults to max_iter=1000. From 0.21, default max_iter will be 1000, and default tol will be 1e-3.\n",
      "  \"and default tol will be 1e-3.\" % type(self), FutureWarning)\n",
      "/anaconda3/lib/python3.6/site-packages/sklearn/linear_model/stochastic_gradient.py:128: FutureWarning: max_iter and tol parameters have been added in <class 'sklearn.linear_model.stochastic_gradient.SGDRegressor'> in 0.19. If both are left unset, they default to max_iter=5 and tol=None. If tol is not None, max_iter defaults to max_iter=1000. From 0.21, default max_iter will be 1000, and default tol will be 1e-3.\n",
      "  \"and default tol will be 1e-3.\" % type(self), FutureWarning)\n",
      "/anaconda3/lib/python3.6/site-packages/sklearn/linear_model/stochastic_gradient.py:128: FutureWarning: max_iter and tol parameters have been added in <class 'sklearn.linear_model.stochastic_gradient.SGDRegressor'> in 0.19. If both are left unset, they default to max_iter=5 and tol=None. If tol is not None, max_iter defaults to max_iter=1000. From 0.21, default max_iter will be 1000, and default tol will be 1e-3.\n",
      "  \"and default tol will be 1e-3.\" % type(self), FutureWarning)\n",
      "/anaconda3/lib/python3.6/site-packages/sklearn/linear_model/stochastic_gradient.py:128: FutureWarning: max_iter and tol parameters have been added in <class 'sklearn.linear_model.stochastic_gradient.SGDRegressor'> in 0.19. If both are left unset, they default to max_iter=5 and tol=None. If tol is not None, max_iter defaults to max_iter=1000. From 0.21, default max_iter will be 1000, and default tol will be 1e-3.\n",
      "  \"and default tol will be 1e-3.\" % type(self), FutureWarning)\n",
      "/anaconda3/lib/python3.6/site-packages/sklearn/linear_model/stochastic_gradient.py:128: FutureWarning: max_iter and tol parameters have been added in <class 'sklearn.linear_model.stochastic_gradient.SGDRegressor'> in 0.19. If both are left unset, they default to max_iter=5 and tol=None. If tol is not None, max_iter defaults to max_iter=1000. From 0.21, default max_iter will be 1000, and default tol will be 1e-3.\n",
      "  \"and default tol will be 1e-3.\" % type(self), FutureWarning)\n",
      "/anaconda3/lib/python3.6/site-packages/sklearn/linear_model/stochastic_gradient.py:128: FutureWarning: max_iter and tol parameters have been added in <class 'sklearn.linear_model.stochastic_gradient.SGDRegressor'> in 0.19. If both are left unset, they default to max_iter=5 and tol=None. If tol is not None, max_iter defaults to max_iter=1000. From 0.21, default max_iter will be 1000, and default tol will be 1e-3.\n",
      "  \"and default tol will be 1e-3.\" % type(self), FutureWarning)\n",
      "/anaconda3/lib/python3.6/site-packages/sklearn/linear_model/stochastic_gradient.py:128: FutureWarning: max_iter and tol parameters have been added in <class 'sklearn.linear_model.stochastic_gradient.SGDRegressor'> in 0.19. If both are left unset, they default to max_iter=5 and tol=None. If tol is not None, max_iter defaults to max_iter=1000. From 0.21, default max_iter will be 1000, and default tol will be 1e-3.\n",
      "  \"and default tol will be 1e-3.\" % type(self), FutureWarning)\n",
      "/anaconda3/lib/python3.6/site-packages/sklearn/linear_model/stochastic_gradient.py:128: FutureWarning: max_iter and tol parameters have been added in <class 'sklearn.linear_model.stochastic_gradient.SGDRegressor'> in 0.19. If both are left unset, they default to max_iter=5 and tol=None. If tol is not None, max_iter defaults to max_iter=1000. From 0.21, default max_iter will be 1000, and default tol will be 1e-3.\n",
      "  \"and default tol will be 1e-3.\" % type(self), FutureWarning)\n",
      "/anaconda3/lib/python3.6/site-packages/sklearn/linear_model/stochastic_gradient.py:128: FutureWarning: max_iter and tol parameters have been added in <class 'sklearn.linear_model.stochastic_gradient.SGDRegressor'> in 0.19. If both are left unset, they default to max_iter=5 and tol=None. If tol is not None, max_iter defaults to max_iter=1000. From 0.21, default max_iter will be 1000, and default tol will be 1e-3.\n",
      "  \"and default tol will be 1e-3.\" % type(self), FutureWarning)\n",
      "/anaconda3/lib/python3.6/site-packages/sklearn/linear_model/stochastic_gradient.py:128: FutureWarning: max_iter and tol parameters have been added in <class 'sklearn.linear_model.stochastic_gradient.SGDRegressor'> in 0.19. If both are left unset, they default to max_iter=5 and tol=None. If tol is not None, max_iter defaults to max_iter=1000. From 0.21, default max_iter will be 1000, and default tol will be 1e-3.\n",
      "  \"and default tol will be 1e-3.\" % type(self), FutureWarning)\n",
      "/anaconda3/lib/python3.6/site-packages/sklearn/linear_model/stochastic_gradient.py:128: FutureWarning: max_iter and tol parameters have been added in <class 'sklearn.linear_model.stochastic_gradient.SGDRegressor'> in 0.19. If both are left unset, they default to max_iter=5 and tol=None. If tol is not None, max_iter defaults to max_iter=1000. From 0.21, default max_iter will be 1000, and default tol will be 1e-3.\n",
      "  \"and default tol will be 1e-3.\" % type(self), FutureWarning)\n",
      "/anaconda3/lib/python3.6/site-packages/sklearn/linear_model/stochastic_gradient.py:128: FutureWarning: max_iter and tol parameters have been added in <class 'sklearn.linear_model.stochastic_gradient.SGDRegressor'> in 0.19. If both are left unset, they default to max_iter=5 and tol=None. If tol is not None, max_iter defaults to max_iter=1000. From 0.21, default max_iter will be 1000, and default tol will be 1e-3.\n",
      "  \"and default tol will be 1e-3.\" % type(self), FutureWarning)\n",
      "/anaconda3/lib/python3.6/site-packages/sklearn/linear_model/stochastic_gradient.py:128: FutureWarning: max_iter and tol parameters have been added in <class 'sklearn.linear_model.stochastic_gradient.SGDRegressor'> in 0.19. If both are left unset, they default to max_iter=5 and tol=None. If tol is not None, max_iter defaults to max_iter=1000. From 0.21, default max_iter will be 1000, and default tol will be 1e-3.\n",
      "  \"and default tol will be 1e-3.\" % type(self), FutureWarning)\n",
      "/anaconda3/lib/python3.6/site-packages/sklearn/linear_model/stochastic_gradient.py:128: FutureWarning: max_iter and tol parameters have been added in <class 'sklearn.linear_model.stochastic_gradient.SGDRegressor'> in 0.19. If both are left unset, they default to max_iter=5 and tol=None. If tol is not None, max_iter defaults to max_iter=1000. From 0.21, default max_iter will be 1000, and default tol will be 1e-3.\n",
      "  \"and default tol will be 1e-3.\" % type(self), FutureWarning)\n"
     ]
    },
    {
     "name": "stderr",
     "output_type": "stream",
     "text": [
      "/anaconda3/lib/python3.6/site-packages/sklearn/linear_model/stochastic_gradient.py:128: FutureWarning: max_iter and tol parameters have been added in <class 'sklearn.linear_model.stochastic_gradient.SGDRegressor'> in 0.19. If both are left unset, they default to max_iter=5 and tol=None. If tol is not None, max_iter defaults to max_iter=1000. From 0.21, default max_iter will be 1000, and default tol will be 1e-3.\n",
      "  \"and default tol will be 1e-3.\" % type(self), FutureWarning)\n",
      "/anaconda3/lib/python3.6/site-packages/sklearn/linear_model/stochastic_gradient.py:128: FutureWarning: max_iter and tol parameters have been added in <class 'sklearn.linear_model.stochastic_gradient.SGDRegressor'> in 0.19. If both are left unset, they default to max_iter=5 and tol=None. If tol is not None, max_iter defaults to max_iter=1000. From 0.21, default max_iter will be 1000, and default tol will be 1e-3.\n",
      "  \"and default tol will be 1e-3.\" % type(self), FutureWarning)\n",
      "/anaconda3/lib/python3.6/site-packages/sklearn/linear_model/stochastic_gradient.py:128: FutureWarning: max_iter and tol parameters have been added in <class 'sklearn.linear_model.stochastic_gradient.SGDRegressor'> in 0.19. If both are left unset, they default to max_iter=5 and tol=None. If tol is not None, max_iter defaults to max_iter=1000. From 0.21, default max_iter will be 1000, and default tol will be 1e-3.\n",
      "  \"and default tol will be 1e-3.\" % type(self), FutureWarning)\n",
      "/anaconda3/lib/python3.6/site-packages/sklearn/linear_model/stochastic_gradient.py:128: FutureWarning: max_iter and tol parameters have been added in <class 'sklearn.linear_model.stochastic_gradient.SGDRegressor'> in 0.19. If both are left unset, they default to max_iter=5 and tol=None. If tol is not None, max_iter defaults to max_iter=1000. From 0.21, default max_iter will be 1000, and default tol will be 1e-3.\n",
      "  \"and default tol will be 1e-3.\" % type(self), FutureWarning)\n",
      "/anaconda3/lib/python3.6/site-packages/sklearn/linear_model/stochastic_gradient.py:128: FutureWarning: max_iter and tol parameters have been added in <class 'sklearn.linear_model.stochastic_gradient.SGDRegressor'> in 0.19. If both are left unset, they default to max_iter=5 and tol=None. If tol is not None, max_iter defaults to max_iter=1000. From 0.21, default max_iter will be 1000, and default tol will be 1e-3.\n",
      "  \"and default tol will be 1e-3.\" % type(self), FutureWarning)\n",
      "/anaconda3/lib/python3.6/site-packages/sklearn/linear_model/stochastic_gradient.py:128: FutureWarning: max_iter and tol parameters have been added in <class 'sklearn.linear_model.stochastic_gradient.SGDRegressor'> in 0.19. If both are left unset, they default to max_iter=5 and tol=None. If tol is not None, max_iter defaults to max_iter=1000. From 0.21, default max_iter will be 1000, and default tol will be 1e-3.\n",
      "  \"and default tol will be 1e-3.\" % type(self), FutureWarning)\n",
      "/anaconda3/lib/python3.6/site-packages/sklearn/linear_model/stochastic_gradient.py:128: FutureWarning: max_iter and tol parameters have been added in <class 'sklearn.linear_model.stochastic_gradient.SGDRegressor'> in 0.19. If both are left unset, they default to max_iter=5 and tol=None. If tol is not None, max_iter defaults to max_iter=1000. From 0.21, default max_iter will be 1000, and default tol will be 1e-3.\n",
      "  \"and default tol will be 1e-3.\" % type(self), FutureWarning)\n",
      "/anaconda3/lib/python3.6/site-packages/sklearn/linear_model/stochastic_gradient.py:128: FutureWarning: max_iter and tol parameters have been added in <class 'sklearn.linear_model.stochastic_gradient.SGDRegressor'> in 0.19. If both are left unset, they default to max_iter=5 and tol=None. If tol is not None, max_iter defaults to max_iter=1000. From 0.21, default max_iter will be 1000, and default tol will be 1e-3.\n",
      "  \"and default tol will be 1e-3.\" % type(self), FutureWarning)\n",
      "/anaconda3/lib/python3.6/site-packages/sklearn/linear_model/stochastic_gradient.py:128: FutureWarning: max_iter and tol parameters have been added in <class 'sklearn.linear_model.stochastic_gradient.SGDRegressor'> in 0.19. If both are left unset, they default to max_iter=5 and tol=None. If tol is not None, max_iter defaults to max_iter=1000. From 0.21, default max_iter will be 1000, and default tol will be 1e-3.\n",
      "  \"and default tol will be 1e-3.\" % type(self), FutureWarning)\n",
      "/anaconda3/lib/python3.6/site-packages/sklearn/linear_model/stochastic_gradient.py:128: FutureWarning: max_iter and tol parameters have been added in <class 'sklearn.linear_model.stochastic_gradient.SGDRegressor'> in 0.19. If both are left unset, they default to max_iter=5 and tol=None. If tol is not None, max_iter defaults to max_iter=1000. From 0.21, default max_iter will be 1000, and default tol will be 1e-3.\n",
      "  \"and default tol will be 1e-3.\" % type(self), FutureWarning)\n",
      "/anaconda3/lib/python3.6/site-packages/sklearn/linear_model/stochastic_gradient.py:128: FutureWarning: max_iter and tol parameters have been added in <class 'sklearn.linear_model.stochastic_gradient.SGDRegressor'> in 0.19. If both are left unset, they default to max_iter=5 and tol=None. If tol is not None, max_iter defaults to max_iter=1000. From 0.21, default max_iter will be 1000, and default tol will be 1e-3.\n",
      "  \"and default tol will be 1e-3.\" % type(self), FutureWarning)\n"
     ]
    },
    {
     "name": "stdout",
     "output_type": "stream",
     "text": [
      "SGD Score:  0.291045015088\n"
     ]
    },
    {
     "name": "stderr",
     "output_type": "stream",
     "text": [
      "/anaconda3/lib/python3.6/site-packages/sklearn/linear_model/stochastic_gradient.py:128: FutureWarning: max_iter and tol parameters have been added in <class 'sklearn.linear_model.stochastic_gradient.SGDRegressor'> in 0.19. If both are left unset, they default to max_iter=5 and tol=None. If tol is not None, max_iter defaults to max_iter=1000. From 0.21, default max_iter will be 1000, and default tol will be 1e-3.\n",
      "  \"and default tol will be 1e-3.\" % type(self), FutureWarning)\n"
     ]
    }
   ],
   "source": [
    "#STACKING STEP 5: SGD\n",
    "from sklearn.linear_model import SGDRegressor\n",
    "\n",
    "sgd = SGDRegressor()\n",
    "\n",
    "sgd_scores = cross_val_score(sgd,X_train,Y_train,cv=KFold(n_splits=30, shuffle=True, random_state=42))\n",
    "sgd.fit(X_train,Y_train)\n",
    "sgd_train_pred = sgd.predict(X_train)\n",
    "sgd_test_pred = sgd.predict(X_test)\n",
    "\n",
    "print('SGD Score: ', sgd_scores.mean())"
   ]
  },
  {
   "cell_type": "code",
   "execution_count": 23,
   "metadata": {},
   "outputs": [
    {
     "name": "stdout",
     "output_type": "stream",
     "text": [
      "Stacked Score:  0.296125848495\n"
     ]
    }
   ],
   "source": [
    "#FINAL STEP: \n",
    "linear_pred = linear_train_pred.reshape(-1,1)\n",
    "knn_pred = knn_train_pred.reshape(-1,1)\n",
    "ridge_pred = ridge_train_pred.reshape(-1,1)\n",
    "tree_pred = tree_train_pred.reshape(-1,1)\n",
    "sgd_pred = sgd_train_pred.reshape(-1,1)\n",
    "pred_input = np.hstack([linear_pred, knn_pred, ridge_pred, tree_pred, sgd_pred])\n",
    "\n",
    "stacked = LinearRegression()\n",
    "stacked.fit(pred_input, Y_train)\n",
    "\n",
    "pred_test = pd.DataFrame({'Linear': linear_test_pred.reshape(-1), 'knn': knn_test_pred.reshape(-1), 'ridge': ridge_test_pred.reshape(-1), 'Tree': tree_test_pred.reshape(-1), 'SGD': sgd_test_pred.reshape(-1)}, index=Y_test.index)\n",
    "\n",
    "print('Stacked Score: ',stacked.score(pred_test, Y_test))\n",
    "\n"
   ]
  },
  {
   "cell_type": "markdown",
   "metadata": {},
   "source": [
    "# Conclusions"
   ]
  },
  {
   "cell_type": "markdown",
   "metadata": {},
   "source": [
    "Given our final result of 0.45, this score seems satisfactory given the loose relationship of the data to the target variable. Out of the five models used above, cross-validation suggests that the KNN and Decision Tree methods would be most effective for this type of data, which seems unsurprising given the intuition that wines in closer proximity (whether geographically or otherwise) tend to have similar characteristics. \n",
    "\n",
    "Furthermore, our analysis of the coefficients in the linear regression model suggests that certain features are more correlated than others with the price of a wine. In particular, we note that specific geographic information, such as 'winery,' tends to be most positively correlated with price, whereas general categorical information, such as 'country,' is less correlated.\n",
    "\n",
    "More significantly, the somewhat strong connection between 'points' and 'price' gives credibility to the hypothesis that expert opinion tends to privilege costlier wines. Unfortunately, however, the text analysis tools of TextBlob offered data with little correlation to our target variable. This result may be explained by the inadequacy of this sentiment analysis tool, since its library was not trained on the common vocabulary of wines. "
   ]
  }
 ],
 "metadata": {
  "kernelspec": {
   "display_name": "Python 3",
   "language": "python",
   "name": "python3"
  },
  "language_info": {
   "codemirror_mode": {
    "name": "ipython",
    "version": 3
   },
   "file_extension": ".py",
   "mimetype": "text/x-python",
   "name": "python",
   "nbconvert_exporter": "python",
   "pygments_lexer": "ipython3",
   "version": "3.6.5"
  }
 },
 "nbformat": 4,
 "nbformat_minor": 2
}
